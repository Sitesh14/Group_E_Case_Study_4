{
  "nbformat": 4,
  "nbformat_minor": 0,
  "metadata": {
    "colab": {
      "provenance": [],
      "authorship_tag": "ABX9TyNDxl0AKn7NPqlrl7cuhRQb",
      "include_colab_link": true
    },
    "kernelspec": {
      "name": "python3",
      "display_name": "Python 3"
    },
    "language_info": {
      "name": "python"
    }
  },
  "cells": [
    {
      "cell_type": "markdown",
      "metadata": {
        "id": "view-in-github",
        "colab_type": "text"
      },
      "source": [
        "<a href=\"https://colab.research.google.com/github/Sitesh14/Group_E_Case_Study_4/blob/main/Case_Study_4_Group_E_Sitesh_S_B.ipynb\" target=\"_parent\"><img src=\"https://colab.research.google.com/assets/colab-badge.svg\" alt=\"Open In Colab\"/></a>"
      ]
    },
    {
      "cell_type": "markdown",
      "source": [
        "# **Kelompok E:**\n",
        "1. Chika Ramadhani (1906374004)\n",
        "2. Muhamad Ido Raskapati (1906354154)\n",
        "3. Muhammad Fabian Alkautsar (2006482653)\n",
        "4. Muhammad Rangga Buwana (1906376640)\n",
        "5. Sanjung Maharani (1906354210)\n",
        "6. Sitesh Suresh Bhojwani (1906354085)\n",
        "7. Zalfa Nurfadhilah Haris (1906305291)\n",
        "\n",
        "\n"
      ],
      "metadata": {
        "id": "YopPNw0JlHsO"
      }
    },
    {
      "cell_type": "markdown",
      "source": [
        "# **Problem Statment**"
      ],
      "metadata": {
        "id": "f8UnDXTPnjIn"
      }
    },
    {
      "cell_type": "markdown",
      "source": [],
      "metadata": {
        "id": "D61Pe5D0nwFl"
      }
    },
    {
      "cell_type": "markdown",
      "source": [
        "## **Main Focus**"
      ],
      "metadata": {
        "id": "7r1j6CRbnwS3"
      }
    },
    {
      "cell_type": "markdown",
      "source": [
        "**Perubahan Format Data Excel ke CSV**\n",
        "\n",
        "Data ... diberikan dalam format excel. Excel dapat digunakan untuk data yang tidak terlampau besar. File format csv lebih disarankan karena dapat digunakan untuk data yang kecil maupun besar. Oleh karena itu, kita mengubah format file yang diberikan ke dalam format csv. Dengan kata lain, perubahan format file ke csv akan selalu lebih baik dibandingkan format file excel."
      ],
      "metadata": {
        "id": "-dPpsKJvn7gi"
      }
    },
    {
      "cell_type": "markdown",
      "source": [
        "# **Modules**"
      ],
      "metadata": {
        "id": "bjuIef1IoIKl"
      }
    },
    {
      "cell_type": "code",
      "source": [
        "#Import Modules\n",
        "import warnings; warnings.simplefilter('ignore')\n",
        "import pandas as pd, seaborn as sns, matplotlib.pyplot as plt, numpy as np\n",
        "plt.style.use('bmh'); sns.set()"
      ],
      "metadata": {
        "id": "DUwJhN4LoU3n"
      },
      "execution_count": null,
      "outputs": []
    },
    {
      "cell_type": "code",
      "source": [
        "import statsmodels.api as sm\n",
        "from statsmodels.formula.api import ols\n",
        "import statsmodels.formula.api as smf"
      ],
      "metadata": {
        "id": "3QSQukr_8f3M"
      },
      "execution_count": null,
      "outputs": []
    },
    {
      "cell_type": "markdown",
      "source": [
        "# **Data Set**"
      ],
      "metadata": {
        "id": "X_aMnpuVohp6"
      }
    },
    {
      "cell_type": "code",
      "source": [
        "# Import Data Set from GitHub\n",
        "# load data\n",
        "\n",
        "df = pd.read_csv(...)\n",
        "df.head(10)"
      ],
      "metadata": {
        "id": "x0vCmUXgnecs"
      },
      "execution_count": null,
      "outputs": []
    },
    {
      "cell_type": "code",
      "source": [
        "# Data Size\n",
        "N, P = df.shape\n",
        "print('baris = ', N, ', Kolom (jumlah variabel) = ', P)\n",
        "\n",
        "# Variable Type\n",
        "print(\"Tipe Variabel df = \", type(df))\n",
        "\n",
        "# Show The First Five Data\n",
        "df.head()"
      ],
      "metadata": {
        "id": "nOjCv5WIo4zg"
      },
      "execution_count": null,
      "outputs": []
    },
    {
      "cell_type": "code",
      "source": [
        "# Show The Last Five Data\n",
        "df.tail()"
      ],
      "metadata": {
        "id": "oRoY14iko9To"
      },
      "execution_count": null,
      "outputs": []
    },
    {
      "cell_type": "code",
      "source": [
        "# Data Information\n",
        "df.info()"
      ],
      "metadata": {
        "id": "dPbrVgqUo-2o"
      },
      "execution_count": null,
      "outputs": []
    },
    {
      "cell_type": "markdown",
      "source": [
        "Note:\n",
        "\n",
        "Berdasarkan hasil pengecekan data dari Phyton, tipe data tiap variabel sudah sesuai dengan yang diperlukan untuk komputasi, yakni:\n",
        "1. Kolom ‘...’ dengan tipe data object, contoh : ..., ..., dan ...\n",
        "2. Kolom ‘...’ dengan tipe data integer, contoh: ..., ..., dan ...\n",
        "3. Kolom ‘...’ dengan tipe data integer, contoh: ..., ..., dan ...\n",
        "4. Kolom ‘...’ dengan tipe data object, contoh: ..., ..., dan ...\n",
        "5. Kolom ‘...’ dengan tipe data object, contoh: ..., ..., dan ...\n",
        "6. Kolom ‘...’ dengan tipe data integer, contoh: ..., ..., dan ...\n",
        "\n",
        "DISESUAIKAN: *Namun, pada kolom Tanggal bagian Waktu akan dihilangkan karena tidak diperlukan. Hal ini karena waktu yang tercatat untuk semua baris sama, yaitu ‘00:00’ sehingga tidak akan memberikan informasi tambahan apabila dianalisis.*\n"
      ],
      "metadata": {
        "id": "iPH-ImqVpIhT"
      }
    },
    {
      "cell_type": "markdown",
      "source": [
        "# **Pre Processing**"
      ],
      "metadata": {
        "id": "8q5pDglSpnd8"
      }
    },
    {
      "cell_type": "code",
      "source": [
        "#Scaling"
      ],
      "metadata": {
        "id": "qXimPi8ApHnP"
      },
      "execution_count": null,
      "outputs": []
    },
    {
      "cell_type": "code",
      "source": [],
      "metadata": {
        "id": "tZFnTVpDqC6C"
      },
      "execution_count": null,
      "outputs": []
    },
    {
      "cell_type": "markdown",
      "source": [
        "### Detection and Handling Noise, Outlier, and Missing Value. Check data duplikat"
      ],
      "metadata": {
        "id": "GGhPvXbspzeT"
      }
    },
    {
      "cell_type": "markdown",
      "source": [
        "Note:"
      ],
      "metadata": {
        "id": "_0bJwnNIp_Fi"
      }
    },
    {
      "cell_type": "markdown",
      "source": [
        "# **Exploratory Data Analysis**"
      ],
      "metadata": {
        "id": "EzZYG6jtqHgT"
      }
    },
    {
      "cell_type": "code",
      "source": [],
      "metadata": {
        "id": "elhQJT-gqN5z"
      },
      "execution_count": null,
      "outputs": []
    },
    {
      "cell_type": "markdown",
      "source": [
        "Note:"
      ],
      "metadata": {
        "id": "4OpyhaLYqOU6"
      }
    },
    {
      "cell_type": "code",
      "source": [],
      "metadata": {
        "id": "KuZCBDbQqP3_"
      },
      "execution_count": null,
      "outputs": []
    },
    {
      "cell_type": "markdown",
      "source": [
        "Note:"
      ],
      "metadata": {
        "id": "7MTbKPBuqQAa"
      }
    },
    {
      "cell_type": "markdown",
      "source": [
        "## **Regresi dan Korelasi**"
      ],
      "metadata": {
        "id": "H-qNK76XqeJm"
      }
    },
    {
      "cell_type": "code",
      "source": [
        "#Forward Selection untuk pemilihan model"
      ],
      "metadata": {
        "id": "OfnBlaXqqiGG"
      },
      "execution_count": null,
      "outputs": []
    },
    {
      "cell_type": "markdown",
      "source": [],
      "metadata": {
        "id": "flmxw7DBquRN"
      }
    },
    {
      "cell_type": "markdown",
      "source": [
        "# **Kesimpulan**"
      ],
      "metadata": {
        "id": "eUzIG-gjqyGE"
      }
    },
    {
      "cell_type": "code",
      "source": [],
      "metadata": {
        "id": "dhAERh9Dq2N7"
      },
      "execution_count": null,
      "outputs": []
    },
    {
      "cell_type": "markdown",
      "source": [
        "# **Recommendation**"
      ],
      "metadata": {
        "id": "5PyInqGdq10F"
      }
    },
    {
      "cell_type": "markdown",
      "source": [
        "- Informasi lain yang dapat ditambahkan pada adalah informasi **Jumlah orang yang ada pada gedung/rumah**. Hal ini mungkin memiliki pengaruh yang cukup besaar terhadap penggunaan listrik di gedung/rumah tersebut. Suatu gedung walaupun memiliki banyak lantai dan luas gedungnya besar, tetapi tidak ada orang yang bekerja atau tinggal di gedung/rumah tersebut maka seharusnya penggunaan listrik di rumah tersebut juga akan berkurang. Hal ini tentu menjadi insight yang cukup baik untuk analisis yang dilakukan. Jadi, kedepannya mungkin tim lapangan dapat mencari informasi tersebut.\n",
        "- *Mungkin* Untuk selanjutnya, untuk project yang berhubungan dengan gedung atau rumah, selain data luas tanah yang diberikan, sebaikya data **Luas Bangunan** diprovide juga oleh tim lapangan untuk melengkapi informasi dari daata luastanah. Meskipun data jumlah lantai telah diberikan dan luas bangunan bisa kita asumsikan sebagai perkalian antara luas tanah x jumlah lantai, tetapi hal ini mungkin saja tidak akurat karena lantai 2,3, dan seterusnya belum tentu sama dengan luas tanah di lantai 1. Hal ini menyebabkan, asumsi luas tanah x jumlah lantai menjadi kurang valid dalam proses analisis. Oleh karena itu, informasi luas bangunan menjadi informasi pelengkap dari luas tanah dan tim data science memiliki dugaan bahwa luas bangunan dapat memiliki pengaruh yang besar pada penggunaan listrik pada suatu gedung/rumah.\n",
        "-\n",
        "-\n"
      ],
      "metadata": {
        "id": "WFnh86Ddqy9P"
      }
    }
  ]
}